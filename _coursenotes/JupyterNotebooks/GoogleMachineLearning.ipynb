{
 "cells": [
  {
   "cell_type": "markdown",
   "metadata": {},
   "source": [
    "## Definitions and Framing\n",
    "\n",
    "* **Supervised Machine Learning:** \n",
    "    Using known data to generate some useful predictions of on unseen data\n",
    "\n",
    "    Label $y$: The target variable that we are trying to predict, for example 'spam' or 'not spam'. \n",
    "\n",
    "    Features: Something about the data that is used to represent the data, that is later fed into a model. Complicated machine learning models can have multiple features $x_1, x_2, \\ldots, x_n$. So this is a vector $\\mathbf{x}$.\n",
    "\n",
    "    Model: Maps unseen data to predictions of label $y$. It is defined by internal parameters that are learned using a training set of labeled data\n",
    "\n",
    "    Labeled data can be represented as $(\\mathbf{x}, y)$. In unlabeled data, $y$ is not known and is predicted by the model. \n",
    "\n",
    "\n",
    "* **Models**\n",
    "\n",
    "    A model defines the relationship between the features and the label. There are two key phases in the life of a model: <br>\n",
    "\n",
    "    Training: The phase where you the model is trained or learned. You show the model a number of examples of labeled data, and allow the model to learn the relationship between the features and the label. In other words, it is learning the values of the parameters in the model. These parameters in the model are often called hyperparameters. \n",
    "\n",
    "    Inference: The phase where the model is used to generate labels $y'$ given features $\\mathbf{x}$. \n",
    "    \n",
    "    \n",
    "* **Regression vs. Classification**\n",
    "\n",
    "    A regression predicts continuous values while a classification predicts discrete values. \n",
    "\n",
    "## Descending into ML\n",
    "\n",
    "Topics covered: Linear Regression, Training and Loss\n",
    "\n",
    "* The $L_2$ loss is defined as \n",
    "\n",
    "$$\n",
    "\\begin{align}\n",
    "L_2 \\textrm{ Loss } = \\sum\\limits_i (y_i - prediction_i(\\mathbf{x}))^2 \n",
    "\\end{align}\n",
    "$$\n",
    "\n",
    "where we sum over all data points in the training set $i$. \n",
    "\n",
    "* The convention in machine learning is to represent the linear model as $y' = w_1 x_1 + b$ instead of the more traditional $y = mx + b$. We could easily generalize this regression from one feature to multiple features and the prediction would be given by $y' = w_1 x_1 + w_2 x_2 + w_3 x_3 + b$, where all the $w_i$'s are weights and all the $x_i$'s are features. The process of fitting the model is called training and the process of using the trained model to make a prediction is called inference. \n",
    "\n",
    "* A commonly used loss function is the mean squared error (MSE), but this is neither the only loss function nor the best or most practical loss function for all cases.\n",
    "\n",
    "## Reducing Loss\n",
    "\n",
    "* One of the popular ways to find the minimum in the loss function is to use Gradient Descent. We calculate a gradient at each point and move in the direction of decreasing gradient. The step size that we use as we advance in the direction of decreasing gradient is called the learning rate. This has to be chosen carefully: in multi-dimensional problems, too large a learning rate can cause the code to become unstable. \n",
    "\n",
    "* We can also get trapped in local minima if the space is *not-convex*. There is a whole sprawling field of non-convex optimization. \n",
    "\n",
    "* There are two important flavors of gradient descent:\n",
    "\n",
    "    **Stochastic Gradient Descent:**\n",
    "\n",
    "    In theory, while using gradient descent, we need to calculate the gradient of the loss function considering all examples. However in practice, this is found to be excessive and computationally expensive. We therefore select only one example at random and calculate the gradient of the loss function considering only that one example. This is called stochastic gradient descent. Although this might require more steps to reach the optimum, overall there is usually less computation when dealing with very large data sets. Gradient calculations can be very expensive. \n",
    "\n",
    "    Mathematically, we want to calculate \n",
    "\n",
    "    $$\n",
    "    \\begin{align}\n",
    "    w_{n+1} = w_n -\\eta Q(w)\n",
    "    \\end{align}\n",
    "    $$\n",
    "\n",
    "    where $\\eta$ is the learning rate and $Q(w) = \\frac{1}{N}\\sum_i Q_i(w)$ is the $L_2$ loss for the $i$-th example. What we do instead, in stochastic gradient descent is to first randomnly pick a particular example $k$ and calculate the loss function $Q_k(w)$ and then update $w$ using:\n",
    "\n",
    "    $$\n",
    "    \\begin{align}\n",
    "    w_{n+1} = w_n -\\eta Q_k(w)\n",
    "    \\end{align}\n",
    "    $$\n",
    "\n",
    "    and perform this iteratively until the minimum criterion is reached. \n",
    "\n",
    "    When there are multiple parameters to optimize, the gradient is of course a vector, and so is $\\mathbf{w} = (w_1, w_2, \\ldots)$ and we proceed in the direction of steepest gradient in steps $\\eta$ large. \n",
    "\n",
    "    **Mini-batch Gradient Descent**\n",
    "\n",
    "    This is very similar to stochastic gradient descent except that instead of taking only one data point, we take batches of 10 or 100 of them.  Especially with datasets that contain duplicates, enormous datasets do not contain any further information than very large datasets. Mini-batch gradient descent exploits this fact and works very well in practice. Typical values of batch-size range between 10 and 1000. Stochastic gradient descent is an extreme example of mini-batch gradient descent with batch size 1.\n",
    "\n",
    "* The algorithm to train the model in this case is iterative: we start with some intial guesses for the parameters, compute the loss function for those values, update the values of the parameters through some scheme (with the goal of moving in the direction of lower loss), calculate the loss for the updated values of the parameters, and proceed iteratively until we achieve convergence. Convergence is usually assumed when the loss becomes below some threshold value, or if the loss function starts changing extremely slowly. \n",
    "\n",
    "## First steps with TensorFlow\n",
    "\n",
    "* TensnsorFlow is a computational framework that allows you to build machine learning models. We can use both lower level APIs by defining models based on a series of mathematical operations or we could use predefined higher level APIs such as `tf.estimator`. These architectures can be linear regressors or neural networks. \n",
    "\n",
    "* TensorFlow consists of the following two components:\n",
    "\n",
    "    0. A graph protocol buffer\n",
    "    0. A runtime that executes the distributed graph\n",
    "\n",
    "* The **graph protocol buffer** or protobuf takes data structures written in a text file and then generates classes in Python (or other language) that allows you to load, save and interact with the data in a user friendly way. In this sense the protobuf and the runtime are akin to Python code and a Python interpreter. \n",
    "\n",
    "* Because TensorFlow is built using APIs of various levels of abstraction, we have a choice of level. In general, I should chose the layer that offers the highest level of abstraction. Of course, the highest layers are also less flexible, so for some special modeling cases if I need more flexibility, I can just drop one run lower in the level of API. \n",
    "\n",
    "### `tf.estimator` API\n",
    "\n",
    "The `tf.estimator` API is one of the highest level APIs that has a lot of prepackaged tools of use. Below we show some code to exemplify its use. In the example below, we are going to estimate the median housing pricebased on just one input feature. The data is from the 1990 California housing census data. Available [here](https://developers.google.com/machine-learning/crash-course/california-housing-data-description). First we perform some imports:\n",
    "\n",
    "### Step 0: Setup, imports, loading and inspecting the data"
   ]
  },
  {
   "cell_type": "markdown",
   "metadata": {},
   "source": [
    "**Note:** `tensorflow` does not work with `python 3.7.x` yet. I had `python 3.7.2` loaded on my machine, so this was a good exercise in understanding `conda environments`. It is recommended that each project have ita own *environment*, which consists of a python ditribution (which can be versioned) and a series of packages (which can also be versioned). we first use \n",
    "\n",
    "`conda env --name <envname>`\n",
    "\n",
    "`-n` can be used instead of `--name`. The environment can be created with all the required packages in one line as follows (recommended):\n",
    "\n",
    "`conda env -n tensorflowenv python=3.6 scipy numpy matplotlib scikit-learn`\n",
    "\n",
    "Here `tensorflowenv` is the environment name that I choose to give. I then go into the new environment using\n",
    "\n",
    "`conda activate tensorflowenv`\n",
    "\n",
    "Now `jupyter` doesn't yet recognize this new kernel, so I need to manually go and install it (for each environment I create) using the following (see [here](https://stackoverflow.com/questions/39604271/conda-environments-not-showing-up-in-jupyter-notebook?rq=1) for more details:)\n",
    "\n",
    "`python -m ipykernel install --name tensorflowenv --display-name \"Python (tendorflowenv)\"`\n",
    "\n",
    "Now when I invoke `jupyter notebook` in the activate environment, I can use the dropdown menu to activate the kernel with the specific python version and packages that I desire. Also note that invoking `conda install pkgname` in the activated environment only installs the `pkgname` for that particular environment. \n",
    "\n",
    "For more information regarding environments, see the [docs](https://conda.io/projects/conda/en/latest/user-guide/tasks/manage-environments.html)"
   ]
  },
  {
   "cell_type": "code",
   "execution_count": 21,
   "metadata": {},
   "outputs": [],
   "source": [
    "import math\n",
    "from matplotlib import cm\n",
    "from matplotlib import gridspec\n",
    "import matplotlib.pyplot as plt\n",
    "import numpy as np\n",
    "import pandas as pd\n",
    "from sklearn import metrics\n",
    "import tensorflow as tf\n",
    "\n",
    "from tensorflow.python.data import Dataset\n",
    "tf.logging.set_verbosity(tf.logging.ERROR)\n",
    "pd.options.display.max_rows = 10\n",
    "pd.options.display.float_format = '{:.1f}'.format"
   ]
  },
  {
   "cell_type": "markdown",
   "metadata": {},
   "source": [
    "We next load the data"
   ]
  },
  {
   "cell_type": "code",
   "execution_count": 12,
   "metadata": {},
   "outputs": [],
   "source": [
    "california_housing_dataframe = pd.read_csv('https://download.mlcc.google.com/mledu-datasets/california_housing_train.csv', sep=',')\n",
    "\n",
    "california_housing_dataframe = california_housing_dataframe.reindex(\n",
    "    np.random.permutation(california_housing_dataframe.index))\n",
    "california_housing_dataframe['median_house_value'] /= 1000"
   ]
  },
  {
   "cell_type": "code",
   "execution_count": 13,
   "metadata": {},
   "outputs": [
    {
     "data": {
      "text/html": [
       "<div>\n",
       "<style scoped>\n",
       "    .dataframe tbody tr th:only-of-type {\n",
       "        vertical-align: middle;\n",
       "    }\n",
       "\n",
       "    .dataframe tbody tr th {\n",
       "        vertical-align: top;\n",
       "    }\n",
       "\n",
       "    .dataframe thead th {\n",
       "        text-align: right;\n",
       "    }\n",
       "</style>\n",
       "<table border=\"1\" class=\"dataframe\">\n",
       "  <thead>\n",
       "    <tr style=\"text-align: right;\">\n",
       "      <th></th>\n",
       "      <th>longitude</th>\n",
       "      <th>latitude</th>\n",
       "      <th>housing_median_age</th>\n",
       "      <th>total_rooms</th>\n",
       "      <th>total_bedrooms</th>\n",
       "      <th>population</th>\n",
       "      <th>households</th>\n",
       "      <th>median_income</th>\n",
       "      <th>median_house_value</th>\n",
       "    </tr>\n",
       "  </thead>\n",
       "  <tbody>\n",
       "    <tr>\n",
       "      <th>11495</th>\n",
       "      <td>-121.25</td>\n",
       "      <td>37.76</td>\n",
       "      <td>22.0</td>\n",
       "      <td>2430.0</td>\n",
       "      <td>417.0</td>\n",
       "      <td>1292.0</td>\n",
       "      <td>391.0</td>\n",
       "      <td>3.4009</td>\n",
       "      <td>182.4</td>\n",
       "    </tr>\n",
       "    <tr>\n",
       "      <th>15362</th>\n",
       "      <td>-122.29</td>\n",
       "      <td>37.86</td>\n",
       "      <td>52.0</td>\n",
       "      <td>1665.0</td>\n",
       "      <td>404.0</td>\n",
       "      <td>815.0</td>\n",
       "      <td>372.0</td>\n",
       "      <td>1.9946</td>\n",
       "      <td>156.9</td>\n",
       "    </tr>\n",
       "    <tr>\n",
       "      <th>11888</th>\n",
       "      <td>-121.36</td>\n",
       "      <td>38.67</td>\n",
       "      <td>5.0</td>\n",
       "      <td>5819.0</td>\n",
       "      <td>1507.0</td>\n",
       "      <td>3237.0</td>\n",
       "      <td>1356.0</td>\n",
       "      <td>2.2339</td>\n",
       "      <td>116.6</td>\n",
       "    </tr>\n",
       "    <tr>\n",
       "      <th>4830</th>\n",
       "      <td>-118.09</td>\n",
       "      <td>33.90</td>\n",
       "      <td>36.0</td>\n",
       "      <td>1215.0</td>\n",
       "      <td>279.0</td>\n",
       "      <td>862.0</td>\n",
       "      <td>285.0</td>\n",
       "      <td>3.7604</td>\n",
       "      <td>158.7</td>\n",
       "    </tr>\n",
       "    <tr>\n",
       "      <th>1143</th>\n",
       "      <td>-117.12</td>\n",
       "      <td>32.75</td>\n",
       "      <td>17.0</td>\n",
       "      <td>2060.0</td>\n",
       "      <td>633.0</td>\n",
       "      <td>1251.0</td>\n",
       "      <td>602.0</td>\n",
       "      <td>1.9886</td>\n",
       "      <td>119.2</td>\n",
       "    </tr>\n",
       "  </tbody>\n",
       "</table>\n",
       "</div>"
      ],
      "text/plain": [
       "       longitude  latitude  housing_median_age  total_rooms  total_bedrooms  \\\n",
       "11495    -121.25     37.76                22.0       2430.0           417.0   \n",
       "15362    -122.29     37.86                52.0       1665.0           404.0   \n",
       "11888    -121.36     38.67                 5.0       5819.0          1507.0   \n",
       "4830     -118.09     33.90                36.0       1215.0           279.0   \n",
       "1143     -117.12     32.75                17.0       2060.0           633.0   \n",
       "\n",
       "       population  households  median_income  median_house_value  \n",
       "11495      1292.0       391.0         3.4009               182.4  \n",
       "15362       815.0       372.0         1.9946               156.9  \n",
       "11888      3237.0      1356.0         2.2339               116.6  \n",
       "4830        862.0       285.0         3.7604               158.7  \n",
       "1143       1251.0       602.0         1.9886               119.2  "
      ]
     },
     "execution_count": 13,
     "metadata": {},
     "output_type": "execute_result"
    }
   ],
   "source": [
    "california_housing_dataframe.head()"
   ]
  },
  {
   "cell_type": "markdown",
   "metadata": {},
   "source": [
    "We are now going to use `total_rooms` as an input feature to predict our target (or label) `median_house_value`.  Note that the data is at the city block level, so the feature represents the total number of rooms in the block. We are going to use the `tf.estimator` API to implement a linear regressor to model the data. The API already implements a lot of the low-level nuts and bolts of the regression (or in general, other models) so we can focus on the training, evaluating, and visualizing aspects of the process. The specific class we will use is the `tf.estimator.LinearRegressor` class. "
   ]
  },
  {
   "cell_type": "markdown",
   "metadata": {},
   "source": [
    "### Step 1: Defining the features \n",
    "\n",
    "There are two main classes of features: \n",
    "\n",
    "* **categorical:** a feature that can take on discrete values, like spam/not spam, sunny/rainy/cloudy, etc.\n",
    "\n",
    "* **neumerical:** a feature that can take on continuous or a large number of discrete values, like price, temperature, etc. It seems that these are features that we can do arithmetic on. \n",
    "\n",
    "In TensorFlow, we need to define what kind of feature we are working with. In our case, because we are working with `total_rooms` in this example, it is a numerical feature. This identification of the type of feature is done using `tf.feature_column` module, which has various functions built into it. See [here](https://www.tensorflow.org/guide/feature_columns) for documentation. Feature columns only contain a description of the data and not the data itself"
   ]
  },
  {
   "cell_type": "code",
   "execution_count": 14,
   "metadata": {},
   "outputs": [],
   "source": [
    "my_feature = california_housing_dataframe[['total_rooms']]\n",
    "feature_columns = tf.feature_column.numeric_column('total_rooms')"
   ]
  },
  {
   "cell_type": "markdown",
   "metadata": {},
   "source": [
    "### Step 2: Defining the target\n",
    "\n",
    "We want to predict the meadian house value given the number of rooms, so this is our target"
   ]
  },
  {
   "cell_type": "code",
   "execution_count": 15,
   "metadata": {},
   "outputs": [],
   "source": [
    "targets = california_housing_dataframe['median_house_value']"
   ]
  },
  {
   "cell_type": "markdown",
   "metadata": {},
   "source": [
    "### Step 3: Configure the LinearRegressor\n",
    "\n",
    "We now configure a linear regression model using `LinearRegressor`. The optimization itself is carried out using a built-in implementation of mini-batch stochastic gradient descent. We also use the `tf.contrib.estimator.clip_gradients_by_norm` functions to impose a cut off on the step size so that the gradient descent doesn't become unstable. "
   ]
  },
  {
   "cell_type": "code",
   "execution_count": 16,
   "metadata": {},
   "outputs": [],
   "source": [
    "my_optimizer = tf.train.GradientDescentOptimizer(learning_rate=0.0000001)\n",
    "my_optimizer = tf.contrib.estimator.clip_gradients_by_norm(my_optimizer, 5.0)"
   ]
  },
  {
   "cell_type": "code",
   "execution_count": 22,
   "metadata": {},
   "outputs": [],
   "source": [
    "linear_regressor = tf.estimator.LinearRegressor(feature_columns=feature_columns,\n",
    "                                                optimizer=my_optimizer)"
   ]
  },
  {
   "cell_type": "markdown",
   "metadata": {},
   "source": [
    "### Step 4: Define the input function\n",
    "\n",
    "We now need to define an input function which tells tensorflow how to preprocess the data as well as how to batch, shuffle, and repeat it during model training. This function is a bit of a jump from what we have seen so far, so we will explore it step by step."
   ]
  },
  {
   "cell_type": "code",
   "execution_count": 36,
   "metadata": {},
   "outputs": [],
   "source": [
    "def my_input_function(features, targets, batch_size=1, shuffle=True, num_epochs=None):\n",
    "    \"\"\"Trains a linear regression model with one feature\n",
    "    Inputs: \n",
    "        features: a pandas dataframe of features\n",
    "        targets: a pandas dataframe of targets\n",
    "        batch_size: size of batches to be passed to the model\n",
    "        shuffle: Boolean, whether to shuffle the training data or not\n",
    "        num_epochs: number of epochs for which the data should be repeated. None means repeat indefinitely\n",
    "    Returns:\n",
    "        Tuple of (features, label) for the next data batch\n",
    "    \"\"\"\n",
    "    # convert pandas data into a dict of numpy arrays\n",
    "    features = {key:value for (key, value) in dict(features).items()} # line 13\n",
    "    \n",
    "    # Construct a dataset and configure batching and repeating\n",
    "    ds = Dataset.from_tensor_slices((features,targets)) # line 16\n",
    "    ds = ds.batch(batch_size).repeat(num_epochs) # line 17\n",
    "    \n",
    "    # Shuffle the data if needed\n",
    "    if shuffle:\n",
    "        ds = ds.shuffle(buffer_size=10000) # line 21\n",
    "        \n",
    "    # return the next batch of data\n",
    "    features, labels = ds.make_one_shot_iterator().get_next() # line 24\n",
    "    return (features, labels)"
   ]
  },
  {
   "cell_type": "markdown",
   "metadata": {},
   "source": [
    "Here is an explanation by line number of the code above"
   ]
  },
  {
   "cell_type": "code",
   "execution_count": null,
   "metadata": {},
   "outputs": [],
   "source": []
  }
 ],
 "metadata": {
  "kernelspec": {
   "display_name": "tensorflowenv",
   "language": "python",
   "name": "tensorflowenv"
  },
  "language_info": {
   "codemirror_mode": {
    "name": "ipython",
    "version": 3
   },
   "file_extension": ".py",
   "mimetype": "text/x-python",
   "name": "python",
   "nbconvert_exporter": "python",
   "pygments_lexer": "ipython3",
   "version": "3.6.8"
  }
 },
 "nbformat": 4,
 "nbformat_minor": 2
}
