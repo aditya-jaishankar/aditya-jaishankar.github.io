{
 "cells": [
  {
   "cell_type": "markdown",
   "metadata": {},
   "source": [
    "## Definitions and Framing\n",
    "\n",
    "* **Supervised Machine Learning:** \n",
    "    Using known data to generate some useful predictions of on unseen data\n",
    "\n",
    "    Label $y$: The target variable that we are trying to predict, for example 'spam' or 'not spam'. \n",
    "\n",
    "    Features: Something about the data that is used to represent the data, that is later fed into a model. Complicated machine learning models can have multiple features $x_1, x_2, \\ldots, x_n$. So this is a vector $\\mathbf{x}$.\n",
    "\n",
    "    Model: Maps unseen data to predictions of label $y$. It is defined by internal parameters that are learned using a training set of labeled data\n",
    "\n",
    "    Labeled data can be represented as $(\\mathbf{x}, y)$. In unlabeled data, $y$ is not known and is predicted by the model. \n",
    "\n",
    "\n",
    "* **Models**\n",
    "\n",
    "    A model defines the relationship between the features and the label. There are two key phases in the life of a model: <br>\n",
    "\n",
    "    Training: The phase where you the model is trained or learned. You show the model a number of examples of labeled data, and allow the model to learn the relationship between the features and the label. In other words, it is learning the values of the parameters in the model. These parameters in the model are often called hyperparameters. \n",
    "\n",
    "    Inference: The phase where the model is used to generate labels $y'$ given features $\\mathbf{x}$. \n",
    "    \n",
    "    \n",
    "* **Regression vs. Classification**\n",
    "\n",
    "    A regression predicts continuous values while a classification predicts discrete values. \n",
    "\n",
    "## Descending into ML\n",
    "\n",
    "Topics covered: Linear Regression, Training and Loss\n",
    "\n",
    "* The $L_2$ loss is defined as \n",
    "\n",
    "$$\n",
    "\\begin{align}\n",
    "L_2 \\textrm{ Loss } = \\sum\\limits_i (y_i - prediction_i(\\mathbf{x}))^2 \n",
    "\\end{align}\n",
    "$$\n",
    "\n",
    "where we sum over all data points in the training set $i$. \n",
    "\n",
    "* The convention in machine learning is to represent the linear model as $y' = w_1 x_1 + b$ instead of the more traditional $y = mx + b$. We could easily generalize this regression from one feature to multiple features and the prediction would be given by $y' = w_1 x_1 + w_2 x_2 + w_3 x_3 + b$, where all the $w_i$'s are weights and all the $x_i$'s are features. The process of fitting the model is called training and the process of using the trained model to make a prediction is called inference. \n",
    "\n",
    "* A commonly used loss function is the mean squared error (MSE), but this is neither the only loss function nor the best or most practical loss function for all cases.\n",
    "\n",
    "## Reducing Loss\n",
    "\n",
    "* One of the popular ways to find the minimum in the loss function is to use Gradient Descent. We calculate a gradient at each point and move in the direction of decreasing gradient. The step size that we use as we advance in the direction of decreasing gradient is called the learning rate. This has to be chosen carefully: in multi-dimensional problems, too large a learning rate can cause the code to become unstable. \n",
    "\n",
    "* We can also get trapped in local minima if the space is *not-convex*. There is a whole sprawling field of non-convex optimization. \n",
    "\n",
    "* There are two important flavors of gradient descent:\n",
    "\n",
    "    **Stochastic Gradient Descent:**\n",
    "\n",
    "    In theory, while using gradient descent, we need to calculate the gradient of the loss function considering all examples. However in practice, this is found to be excessive and computationally expensive. We therefore select only one example at random and calculate the gradient of the loss function considering only that one example. This is called stochastic gradient descent. Although this might require more steps to reach the optimum, overall there is usually less computation when dealing with very large data sets. Gradient calculations can be very expensive. \n",
    "\n",
    "    Mathematically, we want to calculate \n",
    "\n",
    "    $$\n",
    "    \\begin{align}\n",
    "    w_{n+1} = w_n -\\eta Q(w)\n",
    "    \\end{align}\n",
    "    $$\n",
    "\n",
    "    where $\\eta$ is the learning rate and $Q(w) = \\frac{1}{N}\\sum_i Q_i(w)$ is the $L_2$ loss for the $i$-th example. What we do instead, in stochastic gradient descent is to first randomnly pick a particular example $k$ and calculate the loss function $Q_k(w)$ and then update $w$ using:\n",
    "\n",
    "    $$\n",
    "    \\begin{align}\n",
    "    w_{n+1} = w_n -\\eta Q_k(w)\n",
    "    \\end{align}\n",
    "    $$\n",
    "\n",
    "    and perform this iteratively until the minimum criterion is reached. \n",
    "\n",
    "    When there are multiple parameters to optimize, the gradient is of course a vector, and so is $\\mathbf{w} = (w_1, w_2, \\ldots)$ and we proceed in the direction of steepest gradient in steps $\\eta$ large. \n",
    "\n",
    "    **Mini-batch Gradient Descent**\n",
    "\n",
    "    This is very similar to stochastic gradient descent except that instead of taking only one data point, we take batches of 10 or 100 of them.  Especially with datasets that contain duplicates, enormous datasets do not contain any further information than very large datasets. Mini-batch gradient descent exploits this fact and works very well in practice. Typical values of batch-size range between 10 and 1000. Stochastic gradient descent is an extreme example of mini-batch gradient descent with batch size 1.\n",
    "\n",
    "* The algorithm to train the model in this case is iterative: we start with some intial guesses for the parameters, compute the loss function for those values, update the values of the parameters through some scheme (with the goal of moving in the direction of lower loss), calculate the loss for the updated values of the parameters, and proceed iteratively until we achieve convergence. Convergence is usually assumed when the loss becomes below some threshold value, or if the loss function starts changing extremely slowly. \n",
    "\n",
    "## First steps with TensorFlow\n",
    "\n",
    "* TensnsorFlow is a computational framework that allows you to build machine learning models. We can use both lower level APIs by defining models based on a series of mathematical operations or we could use predefined higher level APIs such as `tf.estimator`. These architectures can be linear regressors or neural networks. \n",
    "\n",
    "* TensorFlow consists of the following two components:\n",
    "\n",
    "    0. A graph protocol buffer\n",
    "    0. A runtime that executes the distributed graph\n",
    "\n",
    "* The **graph protocol buffer** or protobuf takes data structures written in a text file and then generates classes in Python (or other language) that allows you to load, save and interact with the data in a user friendly way. In this sense the protobuf and the runtime are akin to Python code and a Python interpreter. \n",
    "\n",
    "* Because TensorFlow is built using APIs of various levels of abstraction, we have a choice of level. In general, I should chose the layer that offers the highest level of abstraction. Of course, the highest layers are also less flexible, so for some special modeling cases if I need more flexibility, I can just drop one run lower in the level of API. \n",
    "\n",
    "### `tf.estimator` API\n",
    "\n",
    "The `tf.estimator` API is one of the highest level APIs that has a lot of prepackaged tools of use. Below we show some code to exemplify its use. In the example below, we are going to estimate the median housing pricebased on just one input feature. The data is from the 1990 California housing census data. Available [here](https://developers.google.com/machine-learning/crash-course/california-housing-data-description). First we perform some imports:\n",
    "\n",
    "### Step 0: Setup, imports, loading and inspecting the data"
   ]
  },
  {
   "cell_type": "markdown",
   "metadata": {},
   "source": [
    "**Note:** `tensorflow` does not work with `python 3.7.x` yet. I had `python 3.7.2` loaded on my machine, so this was a good exercise in understanding `conda environments`. It is recommended that each project have ita own *environment*, which consists of a python ditribution (which can be versioned) and a series of packages (which can also be versioned). we first use \n",
    "\n",
    "`conda env --name <envname>`\n",
    "\n",
    "`-n` can be used instead of `--name`. The environment can be created with all the required packages in one line as follows (recommended):\n",
    "\n",
    "`conda env -n tensorflowenv python=3.6 scipy numpy matplotlib scikit-learn`\n",
    "\n",
    "Here `tensorflowenv` is the environment name that I choose to give. I then go into the new environment using\n",
    "\n",
    "`conda activate tensorflowenv`\n",
    "\n",
    "Now `jupyter` doesn't yet recognize this new kernel, so I need to manually go and install it (for each environment I create) using the following (see [here](https://stackoverflow.com/questions/39604271/conda-environments-not-showing-up-in-jupyter-notebook?rq=1) for more details:)\n",
    "\n",
    "`python -m ipykernel install --name tensorflowenv --display-name \"Python (tendorflowenv)\"`\n",
    "\n",
    "Now when I invoke `jupyter notebook` in the activate environment, I can use the dropdown menu to activate the kernel with the specific python version and packages that I desire. Also note that invoking `conda install pkgname` in the activated environment only installs the `pkgname` for that particular environment. \n",
    "\n",
    "For more information regarding environments, see the [docs](https://conda.io/projects/conda/en/latest/user-guide/tasks/manage-environments.html)"
   ]
  },
  {
   "cell_type": "code",
   "execution_count": 1,
   "metadata": {},
   "outputs": [],
   "source": [
    "import math\n",
    "from matplotlib import cm\n",
    "from matplotlib import gridspec\n",
    "import matplotlib.pyplot as plt\n",
    "import numpy as np\n",
    "import pandas as pd\n",
    "from sklearn import metrics\n",
    "import tensorflow as tf\n",
    "\n",
    "from tensorflow.python.data import Dataset\n",
    "tf.logging.set_verbosity(tf.logging.ERROR)\n",
    "pd.options.display.max_rows = 10\n",
    "pd.options.display.float_format = '{:.1f}'.format"
   ]
  },
  {
   "cell_type": "markdown",
   "metadata": {},
   "source": [
    "We next load the data"
   ]
  },
  {
   "cell_type": "code",
   "execution_count": 3,
   "metadata": {},
   "outputs": [],
   "source": [
    "california_housing_dataframe = pd.read_csv('https://download.mlcc.google.com/mledu-datasets/california_housing_train.csv', sep=',')\n",
    "\n",
    "california_housing_dataframe = california_housing_dataframe.reindex(\n",
    "    np.random.permutation(california_housing_dataframe.index))\n",
    "california_housing_dataframe['median_house_value'] /= 1000"
   ]
  },
  {
   "cell_type": "code",
   "execution_count": 4,
   "metadata": {},
   "outputs": [
    {
     "data": {
      "text/html": [
       "<div>\n",
       "<style scoped>\n",
       "    .dataframe tbody tr th:only-of-type {\n",
       "        vertical-align: middle;\n",
       "    }\n",
       "\n",
       "    .dataframe tbody tr th {\n",
       "        vertical-align: top;\n",
       "    }\n",
       "\n",
       "    .dataframe thead th {\n",
       "        text-align: right;\n",
       "    }\n",
       "</style>\n",
       "<table border=\"1\" class=\"dataframe\">\n",
       "  <thead>\n",
       "    <tr style=\"text-align: right;\">\n",
       "      <th></th>\n",
       "      <th>longitude</th>\n",
       "      <th>latitude</th>\n",
       "      <th>housing_median_age</th>\n",
       "      <th>total_rooms</th>\n",
       "      <th>total_bedrooms</th>\n",
       "      <th>population</th>\n",
       "      <th>households</th>\n",
       "      <th>median_income</th>\n",
       "      <th>median_house_value</th>\n",
       "    </tr>\n",
       "  </thead>\n",
       "  <tbody>\n",
       "    <tr>\n",
       "      <th>8229</th>\n",
       "      <td>-118.4</td>\n",
       "      <td>34.0</td>\n",
       "      <td>18.0</td>\n",
       "      <td>4780.0</td>\n",
       "      <td>1192.0</td>\n",
       "      <td>1886.0</td>\n",
       "      <td>1036.0</td>\n",
       "      <td>4.5</td>\n",
       "      <td>500.0</td>\n",
       "    </tr>\n",
       "    <tr>\n",
       "      <th>13167</th>\n",
       "      <td>-121.9</td>\n",
       "      <td>37.3</td>\n",
       "      <td>40.0</td>\n",
       "      <td>1844.0</td>\n",
       "      <td>340.0</td>\n",
       "      <td>719.0</td>\n",
       "      <td>305.0</td>\n",
       "      <td>3.4</td>\n",
       "      <td>235.2</td>\n",
       "    </tr>\n",
       "    <tr>\n",
       "      <th>12736</th>\n",
       "      <td>-121.8</td>\n",
       "      <td>37.3</td>\n",
       "      <td>21.0</td>\n",
       "      <td>1959.0</td>\n",
       "      <td>292.0</td>\n",
       "      <td>891.0</td>\n",
       "      <td>300.0</td>\n",
       "      <td>7.4</td>\n",
       "      <td>338.4</td>\n",
       "    </tr>\n",
       "    <tr>\n",
       "      <th>838</th>\n",
       "      <td>-117.1</td>\n",
       "      <td>32.7</td>\n",
       "      <td>26.0</td>\n",
       "      <td>4151.0</td>\n",
       "      <td>823.0</td>\n",
       "      <td>2822.0</td>\n",
       "      <td>697.0</td>\n",
       "      <td>2.8</td>\n",
       "      <td>123.4</td>\n",
       "    </tr>\n",
       "    <tr>\n",
       "      <th>8966</th>\n",
       "      <td>-118.9</td>\n",
       "      <td>35.2</td>\n",
       "      <td>29.0</td>\n",
       "      <td>2888.0</td>\n",
       "      <td>753.0</td>\n",
       "      <td>2949.0</td>\n",
       "      <td>699.0</td>\n",
       "      <td>1.8</td>\n",
       "      <td>45.5</td>\n",
       "    </tr>\n",
       "  </tbody>\n",
       "</table>\n",
       "</div>"
      ],
      "text/plain": [
       "       longitude  latitude  housing_median_age  total_rooms  total_bedrooms  \\\n",
       "8229      -118.4      34.0                18.0       4780.0          1192.0   \n",
       "13167     -121.9      37.3                40.0       1844.0           340.0   \n",
       "12736     -121.8      37.3                21.0       1959.0           292.0   \n",
       "838       -117.1      32.7                26.0       4151.0           823.0   \n",
       "8966      -118.9      35.2                29.0       2888.0           753.0   \n",
       "\n",
       "       population  households  median_income  median_house_value  \n",
       "8229       1886.0      1036.0            4.5               500.0  \n",
       "13167       719.0       305.0            3.4               235.2  \n",
       "12736       891.0       300.0            7.4               338.4  \n",
       "838        2822.0       697.0            2.8               123.4  \n",
       "8966       2949.0       699.0            1.8                45.5  "
      ]
     },
     "execution_count": 4,
     "metadata": {},
     "output_type": "execute_result"
    }
   ],
   "source": [
    "california_housing_dataframe.head()"
   ]
  },
  {
   "cell_type": "markdown",
   "metadata": {},
   "source": [
    "We are now going to use `total_rooms` as an input feature to predict our target (or label) `median_house_value`.  Note that the data is at the city block level, so the feature represents the total number of rooms in the block. We are going to use the `tf.estimator` API to implement a linear regressor to model the data. The API already implements a lot of the low-level nuts and bolts of the regression (or in general, other models) so we can focus on the training, evaluating, and visualizing aspects of the process. The specific class we will use is the `tf.estimator.LinearRegressor` class. "
   ]
  },
  {
   "cell_type": "markdown",
   "metadata": {},
   "source": [
    "### Step 1: Defining the features \n",
    "\n",
    "There are two main classes of features: \n",
    "\n",
    "* **categorical:** a feature that can take on discrete values, like spam/not spam, sunny/rainy/cloudy, etc.\n",
    "\n",
    "* **neumerical:** a feature that can take on continuous or a large number of discrete values, like price, temperature, etc. It seems that these are features that we can do arithmetic on. \n",
    "\n",
    "In TensorFlow, we need to define what kind of feature we are working with. In our case, because we are working with `total_rooms` in this example, it is a numerical feature. This identification of the type of feature is done using `tf.feature_column` module, which has various functions built into it. See [here](https://www.tensorflow.org/guide/feature_columns) for documentation. Feature columns only contain a description of the data and not the data itself"
   ]
  },
  {
   "cell_type": "code",
   "execution_count": 32,
   "metadata": {},
   "outputs": [],
   "source": [
    "my_feature = california_housing_dataframe[['total_rooms']]\n",
    "feature_columns = [tf.feature_column.numeric_column('total_rooms')]"
   ]
  },
  {
   "cell_type": "markdown",
   "metadata": {},
   "source": [
    "### Step 2: Defining the target\n",
    "\n",
    "We want to predict the meadian house value given the number of rooms, so this is our target"
   ]
  },
  {
   "cell_type": "code",
   "execution_count": 33,
   "metadata": {},
   "outputs": [],
   "source": [
    "targets = california_housing_dataframe['median_house_value']"
   ]
  },
  {
   "cell_type": "markdown",
   "metadata": {},
   "source": [
    "### Step 3: Configure the LinearRegressor\n",
    "\n",
    "We now configure a linear regression model using `LinearRegressor`. The optimization itself is carried out using a built-in implementation of mini-batch stochastic gradient descent. We also use the `tf.contrib.estimator.clip_gradients_by_norm` functions to impose a cut off on the step size so that the gradient descent doesn't become unstable. "
   ]
  },
  {
   "cell_type": "code",
   "execution_count": 34,
   "metadata": {},
   "outputs": [],
   "source": [
    "my_optimizer = tf.train.GradientDescentOptimizer(learning_rate=0.0000001)\n",
    "my_optimizer = tf.contrib.estimator.clip_gradients_by_norm(my_optimizer, 5.0)"
   ]
  },
  {
   "cell_type": "code",
   "execution_count": 35,
   "metadata": {},
   "outputs": [],
   "source": [
    "linear_regressor = tf.estimator.LinearRegressor(feature_columns=feature_columns,\n",
    "                                                optimizer=my_optimizer)"
   ]
  },
  {
   "cell_type": "markdown",
   "metadata": {},
   "source": [
    "### Step 4: Define the input function\n",
    "\n",
    "We now need to define an input function which tells tensorflow how to preprocess the data as well as how to batch, shuffle, and repeat it during model training. This function is a bit of a jump from what we have seen so far, so we will explore it step by step."
   ]
  },
  {
   "cell_type": "code",
   "execution_count": 38,
   "metadata": {},
   "outputs": [],
   "source": [
    "def my_input_fn(features, targets, batch_size=1, shuffle=True, num_epochs=None):\n",
    "    \"\"\"Trains a linear regression model with one feature\n",
    "    Inputs: \n",
    "        features: a pandas dataframe of features\n",
    "        targets: a pandas dataframe of targets\n",
    "        batch_size: size of batches to be passed to the model\n",
    "        shuffle: Boolean, whether to shuffle the training data or not\n",
    "        num_epochs: number of epochs for which the data should be repeated. None means repeat indefinitely\n",
    "    Returns:\n",
    "        Tuple of (features, label) for the next data batch\n",
    "    \"\"\"\n",
    "    # convert pandas data into a dict of numpy arrays\n",
    "    features = {key:np.array(value) for (key, value) in dict(features).items()} # line 13\n",
    "    \n",
    "    # Construct a dataset and configure batching and repeating\n",
    "    ds = Dataset.from_tensor_slices((features,targets)) # line 16\n",
    "    ds = ds.batch(batch_size).repeat(num_epochs) # line 17\n",
    "    \n",
    "    # Shuffle the data if needed\n",
    "    if shuffle:\n",
    "        ds = ds.shuffle(buffer_size=10000) # line 21\n",
    "        \n",
    "    # return the next batch of data\n",
    "    features, labels = ds.make_one_shot_iterator().get_next() # line 24\n",
    "    return (features, labels)"
   ]
  },
  {
   "cell_type": "markdown",
   "metadata": {},
   "source": [
    "Here is an explanation by line number of the code above. \n",
    "\n",
    "* **line 13:**\n",
    "    `features` is a pandas dictionary, and `dict(features)` converts it into a dictionary with the column name as key and all the values in the column as pandas series of values. Therefore, the items generates an iterator of type `(feature_name, values)`, which we use to generate our feature dictionary. `values` is of type `pandas.Series.`\n",
    "\n",
    "* **lines 16:**\n",
    "\n",
    "    This line makes use of the `tf.data` API, which lets you take in distributed data from various sources and transform it in different ways to generate datasets for machine learning models. There are two cheif abstractions that `tf.data` introduces, one of which is the `tf.data.Dataset` module (the other is the `tf.data.Iterator` module which is used in line 24 and discussed next). Using `tf.data.Dataset`, there are two distinct ways to create a dataset:    \n",
    "\n",
    "    1. Creating a source (for example `Dataset.from_tensor_slices()`) which constructs a dataset from one or more `tf.Tensor` objects. \n",
    "    2. Applying a transformations (for example `Dataset.batch()`) which constructs a dataset from one or more `tf.data.Datasets` objects. \n",
    "    \n",
    "    A tensor object is in principle a matrix of n-dimensions, except that its value is not evaluated until called for using a `tf.run()` command. The objects can be passed into operations to yield other tensor objects, but again, actual evaluation of the numerical value of the tensor is held off until later. This enables the *flow* of a tensor through various operations without numerical evaluation. With this context, what line 16 is doing is the following: \n",
    "    \n",
    "    `Dataset.from_tensor_slices()` returns a dataset for each row of the input tensor. For example the code snippet below would return `[1, 2], [3, 4]` for the variable `ds`. In our case, we provide a tuple of the form `(features, targets)`, where `features` is a dictionary, and `targets` is a number, `from_tensor_slices` would essentially unpack this tuple, to provide multiple datasets, each of the form `(key: values, target)`.\n",
    "    \n",
    "```python\n",
    "    t = tf.constant([[1, 2], [3, 4]])\n",
    "    ds = tf.data.Dataset.from_tensor_slices(t)   # [1, 2], [3, 4]\n",
    "```\n",
    "\n",
    "* **line 17:**\n",
    "    `Dataset.batch(batch_size)` transform the dataset object that constructs a dataset using `batch_size` number of consecutive elements. The `.repeat(count)` call at the end repeats this dataset `count` number of times.\n",
    "\n",
    "* **line 21:**\n",
    "    `Dataset.shuffle(buffer_size)` randomnly shuffles the elements of this dataset. The `buffer_size` argument represents the number of elements from this dataset from which the new dataset will sample. (Why not sample from the whole dataset to make it even more random? Perhaps computational constraints for very large datasets. \n",
    "    \n",
    "* **line 24:** \n",
    "    `Dataset.make_one_shot_iterator()` generates an iterator for iterating over the dataset (think generators in python). The `.get_next()` call at the end yields the next elements in the dataset. \n",
    "    \n",
    "This input function is going to be used again in later exercises so make sure you understand it well."
   ]
  },
  {
   "cell_type": "markdown",
   "metadata": {},
   "source": [
    "### Step 5: Train the model\n",
    "\n",
    "We now call `train()` on `linear_regressor` to train the model. "
   ]
  },
  {
   "cell_type": "code",
   "execution_count": 40,
   "metadata": {},
   "outputs": [],
   "source": [
    "_ = linear_regressor.train(\n",
    "    input_fn=lambda: my_input_fn(my_feature, targets),\n",
    "    steps=100)"
   ]
  },
  {
   "cell_type": "markdown",
   "metadata": {},
   "source": [
    "The use of the `lambda` function is somewhat unclear to me. It seems that it ensures that the input function is truly randomized, instead of manually passing in randomized datasets?"
   ]
  },
  {
   "cell_type": "markdown",
   "metadata": {},
   "source": [
    "### Evaluate the model\n",
    "\n",
    "We now just make predictions on the training data to see how well the model fit it during training. "
   ]
  },
  {
   "cell_type": "code",
   "execution_count": 47,
   "metadata": {},
   "outputs": [
    {
     "name": "stdout",
     "output_type": "stream",
     "text": [
      "Mean Squared Error (on training data): 56251.030\n",
      "Root Mean Squared Error (on training data): 237.173\n"
     ]
    }
   ],
   "source": [
    "# Create an input function for predictions\n",
    "prediction_input_fn = lambda: my_input_fn(my_feature, targets, num_epochs=1, shuffle=False)\n",
    "\n",
    "# Call predict on the linear_regressor to make predictions\n",
    "predictions = linear_regressor.predict(input_fn=prediction_input_fn)\n",
    "\n",
    "#Format predictions as a numpy array so we can calculate error metrics\n",
    "predictions = np.array([item['predictions'][0] for item in predictions])\n",
    "\n",
    "#Calculate the mean squared error and the root mean squared error\n",
    "mean_squared_error = metrics.mean_squared_error(predictions, targets)\n",
    "root_mean_squared_error = math.sqrt(mean_squared_error)\n",
    "print(\"Mean Squared Error (on training data): %0.3f\" % mean_squared_error)\n",
    "print(\"Root Mean Squared Error (on training data): %0.3f\" % root_mean_squared_error)"
   ]
  },
  {
   "cell_type": "markdown",
   "metadata": {},
   "source": [
    "To know if this mse and rmse is any good, we compare the rmse to the difference between the min and max of our targets"
   ]
  },
  {
   "cell_type": "code",
   "execution_count": 48,
   "metadata": {},
   "outputs": [
    {
     "name": "stdout",
     "output_type": "stream",
     "text": [
      "Min. Median House Value: 14.999\n",
      "Max. Median House Value: 500.001\n",
      "Difference between Min. and Max.: 485.002\n",
      "Root Mean Squared Error: 237.173\n"
     ]
    }
   ],
   "source": [
    "min_house_value = california_housing_dataframe[\"median_house_value\"].min()\n",
    "max_house_value = california_housing_dataframe[\"median_house_value\"].max()\n",
    "min_max_difference = max_house_value - min_house_value\n",
    "\n",
    "print(\"Min. Median House Value: %0.3f\" % min_house_value)\n",
    "print(\"Max. Median House Value: %0.3f\" % max_house_value)\n",
    "print(\"Difference between Min. and Max.: %0.3f\" % min_max_difference)\n",
    "print(\"Root Mean Squared Error: %0.3f\" % root_mean_squared_error)"
   ]
  },
  {
   "cell_type": "markdown",
   "metadata": {},
   "source": [
    "This seems really large - the rmse is nearly 50% of the max difference. Let us first look at some summary statistics on how well the model is doing."
   ]
  },
  {
   "cell_type": "code",
   "execution_count": 50,
   "metadata": {},
   "outputs": [
    {
     "data": {
      "text/html": [
       "<div>\n",
       "<style scoped>\n",
       "    .dataframe tbody tr th:only-of-type {\n",
       "        vertical-align: middle;\n",
       "    }\n",
       "\n",
       "    .dataframe tbody tr th {\n",
       "        vertical-align: top;\n",
       "    }\n",
       "\n",
       "    .dataframe thead th {\n",
       "        text-align: right;\n",
       "    }\n",
       "</style>\n",
       "<table border=\"1\" class=\"dataframe\">\n",
       "  <thead>\n",
       "    <tr style=\"text-align: right;\">\n",
       "      <th></th>\n",
       "      <th>predictions</th>\n",
       "      <th>targets</th>\n",
       "    </tr>\n",
       "  </thead>\n",
       "  <tbody>\n",
       "    <tr>\n",
       "      <th>count</th>\n",
       "      <td>17000.0</td>\n",
       "      <td>17000.0</td>\n",
       "    </tr>\n",
       "    <tr>\n",
       "      <th>mean</th>\n",
       "      <td>0.4</td>\n",
       "      <td>207.3</td>\n",
       "    </tr>\n",
       "    <tr>\n",
       "      <th>std</th>\n",
       "      <td>0.3</td>\n",
       "      <td>116.0</td>\n",
       "    </tr>\n",
       "    <tr>\n",
       "      <th>min</th>\n",
       "      <td>0.0</td>\n",
       "      <td>15.0</td>\n",
       "    </tr>\n",
       "    <tr>\n",
       "      <th>25%</th>\n",
       "      <td>0.2</td>\n",
       "      <td>119.4</td>\n",
       "    </tr>\n",
       "    <tr>\n",
       "      <th>50%</th>\n",
       "      <td>0.3</td>\n",
       "      <td>180.4</td>\n",
       "    </tr>\n",
       "    <tr>\n",
       "      <th>75%</th>\n",
       "      <td>0.5</td>\n",
       "      <td>265.0</td>\n",
       "    </tr>\n",
       "    <tr>\n",
       "      <th>max</th>\n",
       "      <td>5.7</td>\n",
       "      <td>500.0</td>\n",
       "    </tr>\n",
       "  </tbody>\n",
       "</table>\n",
       "</div>"
      ],
      "text/plain": [
       "       predictions  targets\n",
       "count      17000.0  17000.0\n",
       "mean           0.4    207.3\n",
       "std            0.3    116.0\n",
       "min            0.0     15.0\n",
       "25%            0.2    119.4\n",
       "50%            0.3    180.4\n",
       "75%            0.5    265.0\n",
       "max            5.7    500.0"
      ]
     },
     "execution_count": 50,
     "metadata": {},
     "output_type": "execute_result"
    }
   ],
   "source": [
    "calibration_data = pd.DataFrame()\n",
    "calibration_data['predictions'] = pd.Series(predictions)\n",
    "calibration_data['targets'] = pd.Series(targets)\n",
    "calibration_data.describe()"
   ]
  },
  {
   "cell_type": "code",
   "execution_count": 53,
   "metadata": {},
   "outputs": [
    {
     "data": {
      "image/png": "[encoded data removed]",
      "text/plain": [
       "<Figure size 432x288 with 1 Axes>"
      ]
     },
     "metadata": {
      "needs_background": "light"
     },
     "output_type": "display_data"
    }
   ],
   "source": [
    "# Plotting the data\n",
    "\n",
    "sample = california_housing_dataframe.sample(n=300)\n",
    "\n",
    "# Get the min and max total_rooms values.\n",
    "x_0 = sample[\"total_rooms\"].min()\n",
    "x_1 = sample[\"total_rooms\"].max()\n",
    "\n",
    "# Retrieve the final weight and bias generated during training.\n",
    "weight = linear_regressor.get_variable_value('linear/linear_model/total_rooms/weights')[0]\n",
    "bias = linear_regressor.get_variable_value('linear/linear_model/bias_weights')\n",
    "\n",
    "# Get the predicted median_house_values for the min and max total_rooms values.\n",
    "y_0 = weight * x_0 + bias \n",
    "y_1 = weight * x_1 + bias\n",
    "\n",
    "# Plot our regression line from (x_0, y_0) to (x_1, y_1).\n",
    "plt.plot([x_0, x_1], [y_0, y_1], c='r') # Plotting the line using just 2 points\n",
    "\n",
    "# Label the graph axes.\n",
    "plt.ylabel(\"median_house_value\")\n",
    "plt.xlabel(\"total_rooms\")\n",
    "\n",
    "# Plot a scatter plot from our data sample.\n",
    "plt.scatter(sample[\"total_rooms\"], sample[\"median_house_value\"])\n",
    "\n",
    "# Display graph.\n",
    "plt.show()"
   ]
  },
  {
   "cell_type": "markdown",
   "metadata": {},
   "source": [
    "The rest of the exercise goes into a discussion on tweaking the hyperparameters to overcome this por fit. With a suitable choice of `learning_rate`, `steps` and `batch_size` we can get a reasonably good fit."
   ]
  },
  {
   "cell_type": "code",
   "execution_count": null,
   "metadata": {},
   "outputs": [],
   "source": []
  }
 ],
 "metadata": {
  "kernelspec": {
   "display_name": "Python [conda env:tensorflowenv]",
   "language": "python",
   "name": "conda-env-tensorflowenv-py"
  },
  "language_info": {
   "codemirror_mode": {
    "name": "ipython",
    "version": 3
   },
   "file_extension": ".py",
   "mimetype": "text/x-python",
   "name": "python",
   "nbconvert_exporter": "python",
   "pygments_lexer": "ipython3",
   "version": "3.6.8"
  }
 },
 "nbformat": 4,
 "nbformat_minor": 2
}
